{
  "nbformat": 4,
  "nbformat_minor": 0,
  "metadata": {
    "colab": {
      "provenance": [],
      "include_colab_link": true
    },
    "kernelspec": {
      "name": "python3",
      "display_name": "Python 3"
    },
    "language_info": {
      "name": "python"
    },
    "accelerator": "GPU",
    "gpuClass": "standard"
  },
  "cells": [
    {
      "cell_type": "markdown",
      "metadata": {
        "id": "view-in-github",
        "colab_type": "text"
      },
      "source": [
        "<a href=\"https://colab.research.google.com/github/alexelax/Smart-Traffic-Lights/blob/Colab-notebooks/YOLOv5_Training.ipynb\" target=\"_parent\"><img src=\"https://colab.research.google.com/assets/colab-badge.svg\" alt=\"Open In Colab\"/></a>"
      ]
    },
    {
      "cell_type": "markdown",
      "source": [
        "# Step 0: VARIABILI"
      ],
      "metadata": {
        "id": "ph8a9KPNCa6J"
      }
    },
    {
      "cell_type": "code",
      "source": [
        "import os\n",
        "#se true scarica i punti dal progetto SmartTrafficLight su git se no usa i pt pretrainati con coco\n",
        "#@markdown Usare il vecchio pt?\n",
        "USE_OLD_PT = \"False\"   #@param [\"False\", \"True\"] \n",
        "OLD_PT_PATH=\"https://github.com/alexelax/Smart-Traffic-Lights/tree/YOLO/YOLOv5/_infer/best_n.pt\" #@param {type: 'string'}\n",
        "\n",
        "#@markdown modello da usare\n",
        "PT_NAME= \"yolov5n.pt\"#@param ['yolov5n.pt', 'yolov5s.pt', 'yolov5m.pt', 'yolov5l.pt','yolov5x.pt'] {allow-input: false}\n",
        "\n",
        "\n",
        "\n",
        "#li setto anche nelle variabili d'ambiente che non si sa mai...\n",
        "os.environ['USE_OLD_PT']=USE_OLD_PT    \n",
        "os.environ['OLD_PT_PATH']=OLD_PT_PATH    \n",
        "os.environ['PT_NAME']=PT_NAME\n",
        "\n"
      ],
      "metadata": {
        "id": "swNhV56VA7Ah"
      },
      "execution_count": null,
      "outputs": []
    },
    {
      "cell_type": "markdown",
      "metadata": {
        "id": "yNveqeA1KXGy"
      },
      "source": [
        "# Step 1: Install Requirements"
      ]
    },
    {
      "cell_type": "code",
      "metadata": {
        "id": "kTvDNSILZoN9",
        "collapsed": true
      },
      "source": [
        "%%capture \n",
        "#DIO GRAZIE DEL CAPUTRE!! ( nasconde l'output! ) \n",
        "\n",
        "!cd /\n",
        "!git clone https://github.com/ultralytics/yolov5  # clone repo\n",
        "%cd yolov5\n",
        "%pip install -qr requirements.txt # install dependencies\n",
        "%pip install -q roboflow\n",
        "\n",
        "#import torch\n",
        "#import os\n",
        "#from IPython.display import Image, clear_output  # to display images\n",
        "#print(f\"Setup complete. Using torch {torch.__version__} ({torch.cuda.get_device_properties(0).name if torch.cuda.is_available() else 'CPU'})\")\n",
        "\n",
        "#scarico i vecchi PT ( trainati )  se richiesto\n",
        "import os\n",
        "import urllib.request\n",
        "print(os.environ)\n",
        "if os.environ['USE_OLD_PT']==\"True\":\n",
        "  urllib.request.urlretrieve(os.environ['OLD_PT_PATH'],\"/content/yolov5/\"+os.environ['PT_NAME'])"
      ],
      "execution_count": null,
      "outputs": []
    },
    {
      "cell_type": "markdown",
      "metadata": {
        "id": "zP6USLgz2f0r"
      },
      "source": [
        "# Step 2: Download Dataset"
      ]
    },
    {
      "cell_type": "code",
      "metadata": {
        "id": "R2wGvjd4Z_92"
      },
      "source": [
        "%%capture\n",
        "WORKSPACE_ID=\"traffic-light-sgslp\"\n",
        "PROJECT_ID=\"traffic-detection-0dhod\"\n",
        "api_key=\"nhwCFkPkiM0Ges2WAtNV\"\n",
        "\n",
        "#WORKSPACE_ID=\"hands-fnbo9\"\n",
        "#PROJECT_ID=\"mani-seryz\"\n",
        "\n",
        "\n",
        "\n",
        "\n",
        "from roboflow import Roboflow\n",
        "import os\n",
        "os.environ[\"DATASET_DIRECTORY\"] = \"/content/datasets\"\n",
        "rf = Roboflow(api_key=api_key)\n",
        "project = rf.workspace(WORKSPACE_ID).project(PROJECT_ID)\n",
        "\n",
        "#prende l'ultima versione disponibile su roboflow \n",
        "#project.versions()[0].version è una stringa con alla fine l'id \n",
        "VERSION =int(project.versions()[0].version.split(\"/\")[-1])   \n",
        "dataset = project.version(VERSION).download(\"yolov5\")"
      ],
      "execution_count": null,
      "outputs": []
    },
    {
      "cell_type": "markdown",
      "metadata": {
        "id": "X7yAi9hd-T4B"
      },
      "source": [
        "# Step 3: Train Our Custom YOLOv5 model\n",
        "\n",
        "Here, we are able to pass a number of arguments:\n",
        "- **img:** define input image size\n",
        "- **batch:** determine batch size\n",
        "- **epochs:** define the number of training epochs. (Note: often, 3000+ are common here!)\n",
        "- **data:** Our dataset locaiton is saved in the `dataset.location` -> variabile di sistema che punta già alla cartella scaricata da roboflow\n",
        "- **weights:** specify a path to weights to start transfer learning from. Here we choose the generic COCO pretrained checkpoint.\n",
        "- **cache:** cache images for faster training"
      ]
    },
    {
      "cell_type": "code",
      "metadata": {
        "id": "eaFNnxLJbq4J"
      },
      "source": [
        "%rm -rf /content/yolov5/runs/\n",
        "import os\n",
        "os.environ['dataset_location']=dataset.location\n",
        "#NON SO XKE, prima funzionava anche senza di questo...\n",
        "#la variabile di python dataset.location è settata sulla cartella giusta ma usando \"{dataset.location}\" nella riga sotto non veniva trovata\n",
        "#allora la metto in una variabile d'ambiente e la valuto ( con il $ ) in fase di richiamo del train ( come con il PT_NAME )\n",
        "\n",
        "!python train.py --img 640 --batch 4 --epochs 3000 --data ${dataset_location}/data.yaml --weights ${PT_NAME} --cache\n",
        "\n",
        "#export your model's weights for future use\n",
        "from google.colab import files\n",
        "files.download('./runs/train/exp/weights/best.pt')"
      ],
      "execution_count": null,
      "outputs": []
    }
  ]
}